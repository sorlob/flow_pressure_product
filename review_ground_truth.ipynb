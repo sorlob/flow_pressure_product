{
 "cells": [
  {
   "cell_type": "markdown",
   "id": "e80ccceb-2cd9-4d64-9ad9-329912a8ecc1",
   "metadata": {},
   "source": [
    "# Review Ground Truth \n",
    "This notebook allows fore interactively reviewing data and ground truth labels used for the publication presenting an algorithm to derive respiratory phases in intra-arrest ventilation. \n",
    "The data are obtained form an swine experiment of CPR. \n",
    "\n",
    "Execute the following cells, than cose from the dropdown menu which case to review. "
   ]
  },
  {
   "cell_type": "code",
   "execution_count": null,
   "id": "e3c2df6b-a52d-4a50-bc3e-203fd3c2cf66",
   "metadata": {},
   "outputs": [],
   "source": [
    "from vitabel import Vitals\n",
    "from pathlib import Path\n",
    "import pandas as pd\n",
    "\n",
    "import ipywidgets as widgets\n",
    "from IPython.display import display"
   ]
  },
  {
   "cell_type": "code",
   "execution_count": null,
   "id": "38540a68-807f-42b4-b805-ecf539174b8f",
   "metadata": {},
   "outputs": [],
   "source": [
    "def plot_curves(case: Vitals):\n",
    "    t = case.get_label(\"cpr\").first_entry\n",
    "\n",
    "    plot = case.plot_interactive(\n",
    "        channels = [[\"Flow Interpolated\"],\n",
    "                    [\"Pressure Interpolated\"],\n",
    "                    [\"Product Flow Pressure\"], \n",
    "                    [\"Product negative Flow Pressures Slope\"]],\n",
    "        labels=[[\"Inspiration Begin gt\", \"Inspiration Begin\", \"Expiration Begin gt\", \"Expiration Begin\", \"Inspiration gt\", \"Expiration gt\"] for i in range(0,4)],\n",
    "        channel_overviews = [[\"Flow Interpolated\"]],\n",
    "        start = t - pd.Timedelta(0.5,\"s\"),\n",
    "        stop = t + pd.Timedelta(7.75,\"s\"),\n",
    "        #subplots_kwargs={\"figsize\":(49,18)},\n",
    "        subplots_kwargs={\n",
    "        \"figsize\": (18, 10), #7.48,\n",
    "        \"dpi\" : 100,\n",
    "        \"gridspec_kw\": {\"height_ratios\": [1,1,1,1, 0.5]}},\n",
    "        time_unit=\"s\")\n",
    "    return plot"
   ]
  },
  {
   "cell_type": "code",
   "execution_count": null,
   "id": "7008fe46-8449-49b9-935e-97cf56d51b75",
   "metadata": {},
   "outputs": [],
   "source": [
    "# Load Data and Generate Plots\n",
    "cases = {}\n",
    "widgets_map = {}\n",
    "for case_path in Path(\"./data/\").glob(\"*.json\"):\n",
    "    case_id = case_path.stem\n",
    "    case = Vitals()\n",
    "    case.load_data(case_path) \n",
    "    cases[case_id]=case\n",
    "    widgets_map[case_id]=plot_curves(case)"
   ]
  },
  {
   "cell_type": "code",
   "execution_count": null,
   "id": "22a29260-237f-4847-a1fc-41c5285e04a3",
   "metadata": {},
   "outputs": [],
   "source": [
    "# Generated a Dropdown Menus to swtich betweeen cases\n",
    "# 1) Dropdown with keys\n",
    "dd = widgets.Dropdown(\n",
    "    options=list(widgets_map.keys()),\n",
    "    value=next(iter(widgets_map)),  # first key as default\n",
    "    description=\"Select:\"\n",
    ")\n",
    "# 2) A container that will hold exactly one widget (the chosen AppLayout)\n",
    "holder = widgets.Box()\n",
    "# 3) Callback: swap the child on selection\n",
    "def on_select(change):\n",
    "    if change[\"name\"] == \"value\":\n",
    "        selected = change[\"new\"]\n",
    "        holder.children = (widgets_map[selected],)\n",
    "dd.observe(on_select, names=\"value\")\n",
    "# 4) Initialize view and display\n",
    "holder.children = (widgets_map[dd.value],)\n",
    "display(dd, holder)"
   ]
  },
  {
   "cell_type": "code",
   "execution_count": null,
   "id": "07866fa9-715d-49e3-9fe2-2c8171a78ee2",
   "metadata": {},
   "outputs": [],
   "source": []
  }
 ],
 "metadata": {
  "kernelspec": {
   "display_name": "Python 3.13 (recto-dev)",
   "language": "python",
   "name": "recto-dev"
  },
  "language_info": {
   "codemirror_mode": {
    "name": "ipython",
    "version": 3
   },
   "file_extension": ".py",
   "mimetype": "text/x-python",
   "name": "python",
   "nbconvert_exporter": "python",
   "pygments_lexer": "ipython3",
   "version": "3.13.7"
  }
 },
 "nbformat": 4,
 "nbformat_minor": 5
}
